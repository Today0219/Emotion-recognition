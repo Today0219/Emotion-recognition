{
 "cells": [
  {
   "cell_type": "code",
   "execution_count": null,
   "metadata": {},
   "outputs": [],
   "source": [
    "import multiprocessing\n",
    "from GCForest import gcForest\n",
    "import pandas as pd\n",
    "import numpy as np\n",
    "import pickle \n",
    "import matplotlib.pyplot as plt\n",
    "from sklearn.model_selection import train_test_split\n",
    "from sklearn.model_selection import StratifiedKFold\n",
    "from sklearn.preprocessing import MinMaxScaler\n",
    "from sklearn.metrics import accuracy_score\n",
    "from sklearn.metrics import f1_score\n",
    "from sklearn.metrics import precision_score\n",
    "from sklearn.metrics import recall_score\n",
    "from sklearn.preprocessing import Imputer\n",
    "import warnings\n",
    "warnings.filterwarnings(\"ignore\")\n",
    "#用来计算程序运行时间\n",
    "import datetime\n",
    "starttime = datetime.datetime.now()"
   ]
  },
  {
   "cell_type": "code",
   "execution_count": null,
   "metadata": {},
   "outputs": [],
   "source": [
    "#读取Y\n",
    "all_df_y_2c = pickle.load(open(\"./dump_file/all_df_y_2c\",\"rb\"))\n",
    "print(\"Y.shape:\",all_df_y_2c.shape)\n",
    "all_df_y = pickle.load(open(\"./dump_file/all_df_y\",\"rb\"))\n",
    "all_df_y['2cArousal'] = 0\n",
    "all_df_y['2cArousal'][all_df_y['valence'] >= 5] = 1\n",
    "all_df_y['2cValence'] = 0\n",
    "all_df_y['2cValence'][all_df_y['valence'] >= 5] = 1\n",
    "print(all_df_y.head(5))\n",
    "\n",
    "#读取32个通道的EEG数据，每个通道包含32×40=1280个信号样本（人次×每人次40实验）\n",
    "#每个样本向量大小为8064点（63s*128Hz）\n",
    "for eegCH in range(1,33,1):\n",
    "    #file_path = \"./dump_file/CH{}_df_EEG_x\".format(eegCH)\n",
    "    #locals()['CH{}_df_EEG_x'.format(eegCH)] = pickle.load(open(file_path,\"rb\"))\n",
    "    file_path = \"./dump_file/CH{}eegfft_df\".format(eegCH)\n",
    "    locals()[\"CH{}eegfft_df\".format(eegCH)] = pickle.load(open(file_path,\"rb\"))\n",
    "'''\n",
    "X = CH1eegfft_df\n",
    "y = all_df_y[[\"2cArousal\"]]\n",
    "X_tr, X_te, y_tr, y_te = train_test_split(X, y, test_size=0.3,stratify=y,random_state=2018)   \n",
    "xTrainIdx = X_tr.index\n",
    "xTestIdx = X_te.index\n",
    "'''\n",
    "y = all_df_y[[\"2cValence\"]]\n",
    "xTrainIdx = pickle.load(open(\"./dump_file/xTrainIdx\",\"rb\"))\n",
    "xTestIdx = pickle.load(open(\"./dump_file/xTestIdx\",\"rb\"))\n",
    "y_tr = y.loc[xTrainIdx]\n",
    "y_te = y.loc[xTestIdx]"
   ]
  },
  {
   "cell_type": "code",
   "execution_count": null,
   "metadata": {},
   "outputs": [],
   "source": [
    "for eegCH in range(1,33,1):\n",
    "    for i in range(0,1280,1):\n",
    "for eegCH in range(1,33,1): \n",
    "    #时域数据\n",
    "    #locals()['CH{}TrainSet'.format(eegCH)] = locals()['CH{}_df_EEG_x'.format(eegCH)].loc[xTrainIdx]\n",
    "    #locals()['CH{}TestSet'.format(eegCH)] = locals()['CH{}_df_EEG_x'.format(eegCH)].loc[xTestIdx]\n",
    "    #频域数据\n",
    "    locals()['CH{}TrainSet'.format(eegCH)] = locals()['CH{}eegfft_df'.format(eegCH)].loc[xTrainIdx]\n",
    "    locals()['CH{}TestSet'.format(eegCH)] = locals()['CH{}eegfft_df'.format(eegCH)].loc[xTestIdx]"
   ]
  },
  {
   "cell_type": "code",
   "execution_count": null,
   "metadata": {},
   "outputs": [],
   "source": [
    "myWindowsSize = 256\n",
    "myStrideSize = 64\n",
    "gcf = gcForest(shape_1X=8064, window=myWindowsSize, stride=myStrideSize,tolerance=0.0,n_cascadeRF=1, \n",
    "               min_samples_mgs=0.1, min_samples_cascade=0.1,n_jobs=19)\n",
    "if True:\n",
    "    for eegCH in range(1,33,1): \n",
    "        print(\"CH{} running multi-grain scan\".format(eegCH))\n",
    "        xTrain,yTrain = locals()['CH{}TrainSet'.format(eegCH)].values,y_tr.values\n",
    "        xTest = locals()['CH{}TestSet'.format(eegCH)].values   \n",
    "        locals()['CH{}mgsTrainVector'.format(eegCH)] = gcf.mg_scanning(xTrain,yTrain)\n",
    "        locals()['CH{}mgsTestVector'.format(eegCH)] = gcf.mg_scanning(xTest)\n",
    "        filePath = \"./dump_file_V2/CH{}mgsTrainVector_{}_{}\".format(eegCH,myWindowsSize,myStrideSize)\n",
    "        pickle.dump(locals()['CH{}mgsTrainVector'.format(eegCH)],open(filePath,\"wb\"))\n",
    "        filePath = \"./dump_file_V2/CH{}mgsTestVector_{}_{}\".format(eegCH,myWindowsSize,myStrideSize)\n",
    "        pickle.dump(locals()['CH{}mgsTestVector'.format(eegCH)],open(filePath,\"wb\"))\n",
    "else:\n",
    "    for eegCH in range(1,33,1):\n",
    "        filePath = \"./dump_file_V2/CH{}mgsTrainVector_{}_{}\".format(eegCH,myWindowsSize,myStrideSize)\n",
    "        locals()['CH{}mgsTrainVector'.format(eegCH)] = pickle.load(open(filePath,\"rb\"))\n",
    "        filePath = \"./dump_file_V2/CH{}mgsTestVector_{}_{}\".format(eegCH,myWindowsSize,myStrideSize)\n",
    "        locals()['CH{}mgsTestVector'.format(eegCH)]= pickle.load(open(filePath,\"rb\"))"
   ]
  }
 ],
 "metadata": {
  "kernelspec": {
   "display_name": "Python 3",
   "language": "python",
   "name": "python3"
  },
  "language_info": {
   "codemirror_mode": {
    "name": "ipython",
    "version": 3
   },
   "file_extension": ".py",
   "mimetype": "text/x-python",
   "name": "python",
   "nbconvert_exporter": "python",
   "pygments_lexer": "ipython3",
   "version": "3.6.5"
  }
 },
 "nbformat": 4,
 "nbformat_minor": 2
}
