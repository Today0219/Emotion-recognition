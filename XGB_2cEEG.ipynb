{
 "cells": [
  {
   "cell_type": "code",
   "execution_count": 1,
   "metadata": {},
   "outputs": [],
   "source": [
    "# -*- coding: utf-8 -*-\n",
    "import pandas as pd\n",
    "import numpy as np\n",
    "import pickle\n",
    "from sklearn.preprocessing import MinMaxScaler\n",
    "from sklearn import preprocessing\n",
    "from sklearn.model_selection import cross_val_score\n",
    "from sklearn.metrics import mean_absolute_error\n",
    "from sklearn.naive_bayes import GaussianNB\n",
    "from sklearn.neighbors import KNeighborsClassifier\n",
    "from sklearn.neural_network import MLPClassifier\n",
    "from sklearn.metrics import accuracy_score\n",
    "from sklearn.metrics import f1_score\n",
    "from sklearn.metrics import precision_score\n",
    "from sklearn.metrics import recall_score\n",
    "import xgboost as xgb \n",
    "import warnings\n",
    "warnings.filterwarnings(\"ignore\")\n",
    "#用来计算程序运行时间\n",
    "import datetime\n",
    "starttime = datetime.datetime.now()"
   ]
  },
  {
   "cell_type": "code",
   "execution_count": 2,
   "metadata": {},
   "outputs": [
    {
     "name": "stdout",
     "output_type": "stream",
     "text": [
      "######读取特征（基于EEG）######\n",
      "eegFeatureDF.shape: (1280, 1440)\n"
     ]
    }
   ],
   "source": [
    "print(\"######读取特征（基于EEG）######\")\n",
    "#EEG特征表\n",
    "eegFeatureDF = pickle.load(open(\"./dump_file/eegFeatureDF\",\"rb\"))\n",
    "\n",
    "if True:\n",
    "    #加上早期的统计特征\n",
    "    for eegCH in range(1,33,1):\n",
    "        file_path = \"./dump_file/CH{}_eeg_feat_df\".format(eegCH)\n",
    "        tmpDF = pickle.load(open(file_path,\"rb\"))\n",
    "        eegFeatureDF = pd.concat([eegFeatureDF,tmpDF],axis=1)\n",
    "if True:#加上样本熵特征\n",
    "    filePath = \"./dump_file_sampEn/sampEnFeatures\".format(eegCH)\n",
    "    tmpDF = pickle.load(open(filePath,\"rb\"))\n",
    "    eegFeatureDF = pd.concat([eegFeatureDF,tmpDF],axis=1)\n",
    "if False:\n",
    "    #GSR特征表\n",
    "    GSR_feature_df = pickle.load(open(\"./dump_file/df_feat_selected\",\"rb\"))\n",
    "    eegFeatureDF = pd.concat([eegFeatureDF,GSR_feature_df],axis=1)\n",
    "\n",
    "#总的特征向量样本大小\n",
    "print(\"eegFeatureDF.shape:\",eegFeatureDF.shape)"
   ]
  },
  {
   "cell_type": "code",
   "execution_count": 3,
   "metadata": {},
   "outputs": [],
   "source": [
    "if False:\n",
    "    print(\"######数据缩放处理，归一化处理######\")\n",
    "    min_max_scaler = MinMaxScaler()\n",
    "    eegFeatureDF = min_max_scaler.fit_transform(eegFeatureDF)\n"
   ]
  },
  {
   "cell_type": "code",
   "execution_count": 4,
   "metadata": {},
   "outputs": [],
   "source": [
    "#featureDF = pd.concat([eegFeatureDF,GSR_feature_df],axis=1)\n",
    "#featureDF = GSR_feature_df\n",
    "featureDF = eegFeatureDF"
   ]
  },
  {
   "cell_type": "code",
   "execution_count": 5,
   "metadata": {},
   "outputs": [],
   "source": [
    "#############################下面用愉悦度（效价）做分类#################################\n",
    "if False:\n",
    "    print(\"----------------这是高低愉悦度度二分类预测----------------\")\n",
    "    data = featureDF\n",
    "    target = all_df_y_2c #高低愉悦度\n",
    "    \n",
    "    print(\"######xgb classification CV######\")\n",
    "    xgb_model = xgb.XGBClassifier(max_depth=5,learning_rate=0.1,n_estimators=50,\n",
    "                                      objective='binary:logistic',booster='gbtree',n_jobs=10,\n",
    "                                      subsample=0.9, colsample_bytree=0.9, colsample_bylevel=0.9,\n",
    "                                      reg_alpha=0.5, reg_lambda=1.0,gamma=0,\n",
    "                                      scale_pos_weight=1)\n",
    "    xgb_scores = cross_val_score(xgb_model,data,target,cv=5,scoring='accuracy')\n",
    "    print(\"xgb_scores:\",abs(xgb_scores))\n",
    "    print(\"xgb_scores_mean:\",abs(xgb_scores.mean()))\n"
   ]
  },
  {
   "cell_type": "code",
   "execution_count": 6,
   "metadata": {},
   "outputs": [
    {
     "name": "stdout",
     "output_type": "stream",
     "text": [
      "       valence  arousal  dominance  liking  2cArousal  2cValence\n",
      "s01_0     7.71     7.60       6.90    7.83          1          1\n",
      "s01_1     8.10     7.31       7.28    8.47          1          1\n",
      "s01_2     8.58     7.54       9.00    7.08          1          1\n",
      "s01_3     4.94     6.01       6.12    8.06          0          0\n",
      "s01_4     6.96     3.92       7.19    6.05          1          1\n"
     ]
    }
   ],
   "source": [
    "all_df_y = pickle.load(open(\"./dump_file/all_df_y\",\"rb\"))\n",
    "all_df_y['2cArousal'] = 0\n",
    "all_df_y['2cArousal'][all_df_y['valence'] >= 5] = 1\n",
    "all_df_y['2cValence'] = 0\n",
    "all_df_y['2cValence'][all_df_y['valence'] >= 5] = 1\n",
    "print(all_df_y.head(5))\n",
    "y = all_df_y[[\"2cValence\"]]\n",
    "xTrainIdx = pickle.load(open(\"./dump_file/xTrainIdx\",\"rb\"))\n",
    "xTestIdx = pickle.load(open(\"./dump_file/xTestIdx\",\"rb\"))\n",
    "trainY = y.loc[xTrainIdx]\n",
    "testY = y.loc[xTestIdx]\n",
    "trainX = eegFeatureDF.loc[xTrainIdx]\n",
    "testX = eegFeatureDF.loc[xTestIdx]"
   ]
  },
  {
   "cell_type": "code",
   "execution_count": 7,
   "metadata": {},
   "outputs": [
    {
     "name": "stdout",
     "output_type": "stream",
     "text": [
      "######xgb classification ######\n",
      "ACC 0.6536458333333334\n",
      "F1 0.712742980561555\n",
      "Recal 0.7603686635944701\n",
      "Precision 0.6707317073170732\n"
     ]
    }
   ],
   "source": [
    "if True:\n",
    "    data = featureDF\n",
    "    target = y\n",
    "    print(\"######xgb classification ######\")\n",
    "    xgb_model = xgb.XGBClassifier(max_depth=5,learning_rate=0.1,n_estimators=50,\n",
    "                                      objective='binary:logistic',booster='gbtree',n_jobs=10,\n",
    "                                      subsample=0.9, colsample_bytree=0.9, colsample_bylevel=0.9,\n",
    "                                      reg_alpha=0.5, reg_lambda=1.0,gamma=0,\n",
    "                                      scale_pos_weight=1)\n",
    "    xgb_model.fit(trainX.values,trainY.values)\n",
    "    predY = xgb_model.predict(testX.values)\n",
    "    print(\"ACC\",accuracy_score(y_true=testY, y_pred=predY))\n",
    "    print(\"F1\",f1_score(y_true=testY, y_pred=predY))\n",
    "    print(\"Recal\",recall_score(y_true=testY,y_pred=predY))\n",
    "    print(\"Precision\",precision_score(y_true=testY, y_pred=predY))"
   ]
  }
 ],
 "metadata": {
  "kernelspec": {
   "display_name": "Python 3",
   "language": "python",
   "name": "python3"
  },
  "language_info": {
   "codemirror_mode": {
    "name": "ipython",
    "version": 3
   },
   "file_extension": ".py",
   "mimetype": "text/x-python",
   "name": "python",
   "nbconvert_exporter": "python",
   "pygments_lexer": "ipython3",
   "version": "3.6.5"
  }
 },
 "nbformat": 4,
 "nbformat_minor": 2
}
