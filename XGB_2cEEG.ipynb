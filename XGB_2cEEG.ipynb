{
 "cells": [
  {
   "cell_type": "code",
   "execution_count": 1,
   "metadata": {},
   "outputs": [],
   "source": [
    "# -*- coding: utf-8 -*-\n",
    "import pandas as pd\n",
    "import numpy as np\n",
    "import pickle\n",
    "from sklearn.preprocessing import MinMaxScaler\n",
    "from sklearn import preprocessing\n",
    "from sklearn.model_selection import cross_val_score\n",
    "from sklearn.metrics import mean_absolute_error\n",
    "from sklearn.naive_bayes import GaussianNB\n",
    "from sklearn.neighbors import KNeighborsClassifier\n",
    "from sklearn.neural_network import MLPClassifier\n",
    "import xgboost as xgb \n",
    "import warnings\n",
    "warnings.filterwarnings(\"ignore\")\n",
    "#用来计算程序运行时间\n",
    "import datetime\n",
    "starttime = datetime.datetime.now()"
   ]
  },
  {
   "cell_type": "code",
   "execution_count": 2,
   "metadata": {},
   "outputs": [
    {
     "name": "stdout",
     "output_type": "stream",
     "text": [
      "######读取数据（基于EEG）######\n",
      "eegFeatureDF.shape: (1280, 512)\n"
     ]
    }
   ],
   "source": [
    "print(\"######读取数据（基于EEG）######\")\n",
    "#EEG特征表\n",
    "eegFeatureDF = pickle.load(open(\"./dump_file/eegFeatureDF\",\"rb\"))\n",
    "#GSR特征表\n",
    "GSR_feature_df = pickle.load(open(\"./dump_file/df_feat_selected\",\"rb\"))\n",
    "all_df_y_valence = pickle.load(open(\"./dump_file/all_df_y_valence\",\"rb\"))\n",
    "all_df_y = pickle.load(open(\"./dump_file/all_df_y\",\"rb\"))\n",
    "all_df_y_2c = pickle.load(open(\"./dump_file/all_df_y_2c\",\"rb\"))\n",
    "print(\"eegFeatureDF.shape:\",eegFeatureDF.shape)"
   ]
  },
  {
   "cell_type": "code",
   "execution_count": 3,
   "metadata": {},
   "outputs": [
    {
     "data": {
      "text/plain": [
       "'\\nprint(\"######数据缩放处理，归一化处理######\")\\nmin_max_scaler = MinMaxScaler()\\neegFeatureDF = min_max_scaler.fit_transform(eegFeatureDF)\\n'"
      ]
     },
     "execution_count": 3,
     "metadata": {},
     "output_type": "execute_result"
    }
   ],
   "source": [
    "'''\n",
    "print(\"######数据缩放处理，归一化处理######\")\n",
    "min_max_scaler = MinMaxScaler()\n",
    "eegFeatureDF = min_max_scaler.fit_transform(eegFeatureDF)\n",
    "'''"
   ]
  },
  {
   "cell_type": "code",
   "execution_count": 4,
   "metadata": {},
   "outputs": [],
   "source": [
    "#featureDF = pd.concat([eegFeatureDF,GSR_feature_df],axis=1)\n",
    "#featureDF = GSR_feature_df\n",
    "featureDF = eegFeatureDF"
   ]
  },
  {
   "cell_type": "code",
   "execution_count": 12,
   "metadata": {},
   "outputs": [
    {
     "name": "stdout",
     "output_type": "stream",
     "text": [
      "----------------这是高低愉悦度度二分类预测----------------\n",
      "######xgb classification CV######\n",
      "xgb_scores: [0.61089494 0.59922179 0.55078125 0.52941176 0.61176471]\n",
      "xgb_scores_mean: 0.580414890421149\n"
     ]
    }
   ],
   "source": [
    "#############################下面用愉悦度（效价）做分类#################################\n",
    "if True:\n",
    "    print(\"----------------这是高低愉悦度度二分类预测----------------\")\n",
    "    data = featureDF\n",
    "    target = all_df_y_2c #高低愉悦度\n",
    "    \n",
    "    print(\"######xgb classification CV######\")\n",
    "    xgb_model = xgb.XGBClassifier(max_depth=5,learning_rate=0.1,n_estimators=50,\n",
    "                                      objective='binary:logistic',booster='gbtree',n_jobs=10,\n",
    "                                      subsample=0.9, colsample_bytree=0.9, colsample_bylevel=0.9,\n",
    "                                      reg_alpha=0.5, reg_lambda=1.0,gamma=0,\n",
    "                                      scale_pos_weight=1)\n",
    "    xgb_scores = cross_val_score(xgb_model,data,target,cv=5,scoring='accuracy')\n",
    "    print(\"xgb_scores:\",abs(xgb_scores))\n",
    "    print(\"xgb_scores_mean:\",abs(xgb_scores.mean()))\n"
   ]
  }
 ],
 "metadata": {
  "kernelspec": {
   "display_name": "Python 3",
   "language": "python",
   "name": "python3"
  },
  "language_info": {
   "codemirror_mode": {
    "name": "ipython",
    "version": 3
   },
   "file_extension": ".py",
   "mimetype": "text/x-python",
   "name": "python",
   "nbconvert_exporter": "python",
   "pygments_lexer": "ipython3",
   "version": "3.6.5"
  }
 },
 "nbformat": 4,
 "nbformat_minor": 2
}
