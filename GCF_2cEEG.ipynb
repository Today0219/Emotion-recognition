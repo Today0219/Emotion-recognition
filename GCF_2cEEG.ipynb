{
 "cells": [
  {
   "cell_type": "code",
   "execution_count": 1,
   "metadata": {},
   "outputs": [],
   "source": [
    "from GCForest import gcForest\n",
    "import pandas as pd\n",
    "import numpy as np\n",
    "import pickle \n",
    "import matplotlib.pyplot as plt\n",
    "from sklearn.model_selection import train_test_split\n",
    "from sklearn.preprocessing import MinMaxScaler\n",
    "from sklearn.metrics import accuracy_score\n",
    "import warnings\n",
    "warnings.filterwarnings(\"ignore\")\n",
    "#用来计算程序运行时间\n",
    "import datetime\n",
    "starttime = datetime.datetime.now()"
   ]
  },
  {
   "cell_type": "code",
   "execution_count": 2,
   "metadata": {},
   "outputs": [
    {
     "name": "stdout",
     "output_type": "stream",
     "text": [
      "Y.shape: (1280, 1)\n"
     ]
    }
   ],
   "source": [
    "#读取32个通道的EEG数据，每个通道包含32×40=1280个信号样本（人次×每人次40实验）\n",
    "#每个样本向量大小为8064点（63s*128Hz）\n",
    "for eegCH in range(1,33,1):\n",
    "    file_path = \"./dump_file/CH{}_df_EEG_x\".format(eegCH)\n",
    "    locals()['CH{}_df_EEG_x'.format(eegCH)] = pickle.load(open(file_path,\"rb\"))\n",
    "    file_path = \"./dump_file/CH{}eegfft_df\".format(eegCH)\n",
    "    locals()[\"CH{}eegfft_df\".format(eegCH)] = pickle.load(open(file_path,\"rb\"))\n",
    "    \n",
    "#读取Y\n",
    "all_df_y_2c = pickle.load(open(\"./dump_file/all_df_y_2c\",\"rb\"))\n",
    "print(\"Y.shape:\",all_df_y_2c.shape)"
   ]
  },
  {
   "cell_type": "code",
   "execution_count": 3,
   "metadata": {},
   "outputs": [
    {
     "name": "stdout",
     "output_type": "stream",
     "text": [
      "X.shape: (1280, 8064)\n",
      "y.shape: (1280, 1)\n",
      "X_tr.shape: (1024, 8064)\n",
      "X_te.shape: (256, 8064)\n",
      "y_tr.shape: (1024, 1)\n",
      "y_te.shape: (256, 1)\n"
     ]
    }
   ],
   "source": [
    "#CH1_df_EEG_x\n",
    "#X = np.ones([1280,8064])\n",
    "#输入需要是np.array格式\n",
    "\n",
    "#CH1_df_EEG_x.fillna(value=0.0,inplace=True)\n",
    "#X = CH1_df_EEG_x.values\n",
    "CH1eegfft_df.fillna(value=0.0,inplace=True)\n",
    "X = CH1eegfft_df.values\n",
    "\n",
    "X = X.astype(np.int32)\n",
    "min_max_scaler = MinMaxScaler()\n",
    "X = min_max_scaler.fit_transform(X)\n",
    "\n",
    "y = all_df_y_2c.values\n",
    "X_tr, X_te, y_tr, y_te = train_test_split(X, y, test_size=0.2)\n",
    "\n",
    "print(\"X.shape:\",X.shape)\n",
    "print(\"y.shape:\",y.shape)\n",
    "print(\"X_tr.shape:\",X_tr.shape)\n",
    "print(\"X_te.shape:\",X_te.shape)\n",
    "print(\"y_tr.shape:\",y_tr.shape)\n",
    "print(\"y_te.shape:\",y_te.shape)"
   ]
  },
  {
   "cell_type": "code",
   "execution_count": 4,
   "metadata": {},
   "outputs": [
    {
     "data": {
      "text/plain": [
       "array([[0.1739764 , 0.54149201, 0.04717277, ..., 0.9174257 , 0.04717277,\n",
       "        0.54149201],\n",
       "       [0.17397675, 0.54149204, 0.04717278, ..., 0.91742572, 0.04717278,\n",
       "        0.54149204],\n",
       "       [0.17397683, 0.54149206, 0.04717278, ..., 0.91742573, 0.04717278,\n",
       "        0.54149206],\n",
       "       ...,\n",
       "       [0.17370272, 0.54181181, 0.04701359, ..., 0.91760953, 0.04701359,\n",
       "        0.54181181],\n",
       "       [0.17390189, 0.54150023, 0.04706673, ..., 0.91772594, 0.04706673,\n",
       "        0.54150023],\n",
       "       [0.17356568, 0.54166338, 0.04718688, ..., 0.91758157, 0.04718688,\n",
       "        0.54166338]])"
      ]
     },
     "execution_count": 4,
     "metadata": {},
     "output_type": "execute_result"
    }
   ],
   "source": [
    "X"
   ]
  },
  {
   "cell_type": "code",
   "execution_count": 5,
   "metadata": {},
   "outputs": [
    {
     "name": "stdout",
     "output_type": "stream",
     "text": [
      "Slicing Sequence...\n",
      "Training MGS Random Forests...\n",
      "Adding/Training Layer, n_layer=1\n",
      "Layer validation accuracy = 0.6341463414634146\n",
      "Adding/Training Layer, n_layer=2\n",
      "Layer validation accuracy = 0.6341463414634146\n"
     ]
    }
   ],
   "source": [
    "#gcf = gcForest(shape_1X=[63,128], window=[4,8])\n",
    "gcf = gcForest(shape_1X=8064, window=1024, stride=32,tolerance=0.0,n_cascadeRF=1, \n",
    "               min_samples_mgs=0.1, min_samples_cascade=0.1,n_jobs=19)\n",
    "#gcf = gcForest(shape_1X=[63,128], window=[4,128], tolerance=0.0, min_samples_mgs=10, min_samples_cascade=7,n_jobs=-1)\n",
    "gcf.fit(X_tr, y_tr)"
   ]
  },
  {
   "cell_type": "code",
   "execution_count": 6,
   "metadata": {},
   "outputs": [
    {
     "name": "stdout",
     "output_type": "stream",
     "text": [
      "Slicing Sequence...\n"
     ]
    }
   ],
   "source": [
    "pred_X = gcf.predict(X_te)"
   ]
  },
  {
   "cell_type": "code",
   "execution_count": 7,
   "metadata": {},
   "outputs": [
    {
     "name": "stdout",
     "output_type": "stream",
     "text": [
      "gcForest accuracy : 0.64453125\n",
      "程序运行时间:120.0s\n"
     ]
    }
   ],
   "source": [
    "# evaluating accuracy\n",
    "accuracy = accuracy_score(y_true=y_te, y_pred=pred_X)\n",
    "print('gcForest accuracy : {}'.format(accuracy))\n",
    "\n",
    "#用来计算程序运行时间\n",
    "endtime = datetime.datetime.now()\n",
    "print(\"程序运行时间:%.1fs\"%(endtime - starttime).seconds)"
   ]
  }
 ],
 "metadata": {
  "kernelspec": {
   "display_name": "Python 3",
   "language": "python",
   "name": "python3"
  },
  "language_info": {
   "codemirror_mode": {
    "name": "ipython",
    "version": 3
   },
   "file_extension": ".py",
   "mimetype": "text/x-python",
   "name": "python",
   "nbconvert_exporter": "python",
   "pygments_lexer": "ipython3",
   "version": "3.6.5"
  }
 },
 "nbformat": 4,
 "nbformat_minor": 2
}
