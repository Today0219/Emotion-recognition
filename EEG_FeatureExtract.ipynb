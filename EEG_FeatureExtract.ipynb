{
 "cells": [
  {
   "cell_type": "code",
   "execution_count": 1,
   "metadata": {},
   "outputs": [],
   "source": [
    "import multiprocessing\n",
    "import pandas as pd\n",
    "import numpy as np\n",
    "import scipy as sp\n",
    "import pywt\n",
    "from sklearn.model_selection import GroupKFold\n",
    "import pickle \n",
    "import matplotlib.pyplot as plt\n",
    "import warnings\n",
    "warnings.filterwarnings(\"ignore\")\n",
    "#用来计算程序运行时间\n",
    "import datetime\n",
    "starttime = datetime.datetime.now()"
   ]
  },
  {
   "cell_type": "code",
   "execution_count": 2,
   "metadata": {},
   "outputs": [],
   "source": [
    "#读取32个通道的EEG数据，每个通道包含32×40=1280个信号样本（人次×每人次40实验）\n",
    "#每个样本向量大小为8064点（63s*128Hz）\n",
    "for eeg_CH in range(1,33,1):\n",
    "    file_path = \"./dump_file/CH{}_df_EEG_x\".format(eeg_CH)\n",
    "    locals()['CH{}_df_EEG_x'.format(eeg_CH)] = pickle.load(open(file_path,\"rb\"))"
   ]
  },
  {
   "cell_type": "code",
   "execution_count": 3,
   "metadata": {},
   "outputs": [
    {
     "data": {
      "image/png": "[encoded data removed]",
      "text/plain": [
       "<Figure size 432x288 with 1 Axes>"
      ]
     },
     "metadata": {},
     "output_type": "display_data"
    }
   ],
   "source": [
    "#画某个信号波形\n",
    "plt.plot(CH10_df_EEG_x.iloc[0,:])\n",
    "plt.show()"
   ]
  },
  {
   "cell_type": "code",
   "execution_count": 4,
   "metadata": {
    "scrolled": true
   },
   "outputs": [
    {
     "data": {
      "image/png": "[encoded data removed]",
      "text/plain": [
       "<Figure size 432x288 with 1 Axes>"
      ]
     },
     "metadata": {},
     "output_type": "display_data"
    }
   ],
   "source": [
    "#EEG DFT(FFT)频域数据\n",
    "def eegFFT(df_data):\n",
    "    eegfft_df = pd.DataFrame()\n",
    "    for i in df_data.index.tolist():\n",
    "        temp_eegfft = pd.DataFrame(np.fft.fft(df_data.loc[i,:].values)).T\n",
    "        temp_eegfft.index = [i]\n",
    "        eegfft_df = eegfft_df.append(temp_eegfft)\n",
    "    return eegfft_df\n",
    "\n",
    "df = eegFFT(CH1_df_EEG_x)\n",
    "fft_abs = abs(df.iloc[1,:])\n",
    "X = [(n-1)*128/8064 for n in range(1,8065,1) ]\n",
    "plt.plot(X,fft_abs)\n",
    "plt.xlabel(\"Hz\")\n",
    "plt.ylabel(\"|X(k)|\")\n",
    "#plt.title(u'某个EEG信号的频谱',fontproperties='SimHei')\n",
    "plt.show()\n"
   ]
  },
  {
   "cell_type": "code",
   "execution_count": 5,
   "metadata": {},
   "outputs": [],
   "source": [
    "#多进程运行的函数\n",
    "def runFFT(eegCH,startPoint,endPoint):\n",
    "    ############################################################################\n",
    "    #EEG DFT(FFT)频域数据    \n",
    "    starttime = datetime.datetime.now()\n",
    "    def eegFFT(df_data):\n",
    "        eegfft_df = pd.DataFrame()\n",
    "        for i in df_data.index.tolist():\n",
    "            temp_eegfft = pd.DataFrame(np.fft.fft(df_data.loc[i,:].values)).T\n",
    "            temp_eegfft.index = [i]\n",
    "            eegfft_df = eegfft_df.append(temp_eegfft)\n",
    "        return eegfft_df\n",
    "    file_path = \"./dump_file/CH{}_df_EEG_x\".format(eegCH)\n",
    "    locals()['CH{}_df_EEG_x'.format(eegCH)] = pickle.load(open(file_path,\"rb\"))\n",
    "    ############################################################################   \n",
    "    file_path = \"./dump_file/CH{}eegfft_df_{}_{}\".format(eegCH,startPoint,endPoint)\n",
    "    df = eegFFT(locals()['CH{}_df_EEG_x'.format(eegCH)].iloc[:,startPoint:endPoint])\n",
    "    locals()[\"CH{}eegfft_df_{}_{}\".format(eegCH,startPoint,endPoint)] = df\n",
    "    pickle.dump(locals()[\"CH{}eegfft_df_{}_{}\".format(eegCH,startPoint,endPoint)],open(file_path,\"wb\"))\n",
    "    #用来计算程序运行时间\n",
    "    endtime = datetime.datetime.now()\n",
    "    print(\"程序运行时间（多进程）p%d:%.1fs\"%(eegCH,(endtime - starttime).seconds))\n",
    "\n",
    "          \n",
    "#多进程编程 \n",
    "startPoint = int((8064/63)*20)\n",
    "endPoint = int((8064/63)*63)\n",
    "if False:\n",
    "    for eegCH in range(1,33,1):\n",
    "        locals()[\"p{}\".format(eegCH)] = multiprocessing.Process(target = runFFT, args = (eegCH,startPoint,endPoint))\n",
    "        locals()[\"p{}\".format(eegCH)].start()\n",
    "        print(\"p{}.pid:{}\".format(eegCH,locals()[\"p{}\".format(eegCH)].pid))\n",
    "else:\n",
    "    for eegCH in range(1,33,1):\n",
    "        #file_path = \"./dump_file/CH{}eegfft_df\".format(eeg_CH)\n",
    "        file_path = \"./dump_file/CH{}eegfft_df_{}_{}\".format(eegCH,startPoint,endPoint)\n",
    "        locals()[\"CH{}eegfft_df_{}_{}\".format(eegCH,startPoint,endPoint)] = pickle.load(open(file_path,\"rb\"))\n",
    "\n",
    "#把不同时间范围的FFT文件做同一处理\n",
    "for eegCH in range(1,33,1):\n",
    "    locals()[\"CH{}eegfft_df\".format(eegCH)] = locals()[\"CH{}eegfft_df_{}_{}\".format(eegCH,startPoint,endPoint)]"
   ]
  },
  {
   "cell_type": "markdown",
   "metadata": {},
   "source": [
    "- 将脑电分为5个带，每个通带计算功率谱特征\n",
    "- delta 1-4Hz\n",
    "- theta 4-8Hz\n",
    "- alpha 8-14Hz\n",
    "- beta  14-30Hz\n",
    "- gamma 30-47Hz\n",
    "- 巴特沃兹带通滤波器提取相应频带特征 \n",
    "- |\n",
    "- FFT到频域计算各频带的能量作为特征$b_{band}=\\sum_{k=1}^N{|X_i(k)|^2}$"
   ]
  },
  {
   "cell_type": "code",
   "execution_count": 6,
   "metadata": {},
   "outputs": [],
   "source": [
    "#sp.signal.butter(4,,btype='bandpass',analog=False, )\n"
   ]
  },
  {
   "cell_type": "markdown",
   "metadata": {},
   "source": [
    "- FFT运算比较费时间，如果不是第一次运算，则直接读取dump的文件即可"
   ]
  },
  {
   "cell_type": "code",
   "execution_count": null,
   "metadata": {},
   "outputs": [],
   "source": [
    "\n"
   ]
  },
  {
   "cell_type": "code",
   "execution_count": 7,
   "metadata": {},
   "outputs": [
    {
     "data": {
      "text/plain": [
       "'\\n#用来计算频率的分割点\\nstarttime = datetime.datetime.now()\\ndef countFerqHz(n):\\n    return (n-1)*128/8064\\nfor n in range(1,8065,1):\\n    if countFerqHz(n)<4 and countFerqHz(n+1)>=4:\\n        print(\"theta_low_n:%d\"%(n+1))\\n    if countFerqHz(n)<8 and countFerqHz(n+1)>=8:\\n        print(\"theta_high_n:%d\"%(n))\\n        print(\"alpha_low_n:%d\"%(n+1))\\n    if countFerqHz(n)<14 and countFerqHz(n+1)>=14:\\n        print(\"alpha_high_n:%d\"%(n))\\n        print(\"beta_low_n:%d\"%(n+1))\\n    if countFerqHz(n)<30 and countFerqHz(n+1)>=30:\\n        print(\"beta_high_n:%d\"%(n))\\n        print(\"gamma_low_n:%d\"%(n+1))\\n    if countFerqHz(n)<47 and countFerqHz(n+1)>=47:\\n        print(\"gamma_high_n:%d\"%(n))\\n        \\n#用来计算程序运行时间\\nendtime = datetime.datetime.now()\\nprint(\"程序运行时间:%.1fs\"%(endtime - starttime).seconds)\\n'"
      ]
     },
     "execution_count": 7,
     "metadata": {},
     "output_type": "execute_result"
    }
   ],
   "source": [
    "'''\n",
    "#用来计算频率的分割点\n",
    "starttime = datetime.datetime.now()\n",
    "def countFerqHz(n):\n",
    "    return (n-1)*128/8064\n",
    "for n in range(1,8065,1):\n",
    "    if countFerqHz(n)<4 and countFerqHz(n+1)>=4:\n",
    "        print(\"theta_low_n:%d\"%(n+1))\n",
    "    if countFerqHz(n)<8 and countFerqHz(n+1)>=8:\n",
    "        print(\"theta_high_n:%d\"%(n))\n",
    "        print(\"alpha_low_n:%d\"%(n+1))\n",
    "    if countFerqHz(n)<14 and countFerqHz(n+1)>=14:\n",
    "        print(\"alpha_high_n:%d\"%(n))\n",
    "        print(\"beta_low_n:%d\"%(n+1))\n",
    "    if countFerqHz(n)<30 and countFerqHz(n+1)>=30:\n",
    "        print(\"beta_high_n:%d\"%(n))\n",
    "        print(\"gamma_low_n:%d\"%(n+1))\n",
    "    if countFerqHz(n)<47 and countFerqHz(n+1)>=47:\n",
    "        print(\"gamma_high_n:%d\"%(n))\n",
    "        \n",
    "#用来计算程序运行时间\n",
    "endtime = datetime.datetime.now()\n",
    "print(\"程序运行时间:%.1fs\"%(endtime - starttime).seconds)\n",
    "'''\n",
    "#theta:[253,504]\n",
    "#alpha:[505,882]\n",
    "#beta:[883,1890]\n",
    "#gamma:[1891,2961]"
   ]
  },
  {
   "cell_type": "code",
   "execution_count": 8,
   "metadata": {},
   "outputs": [],
   "source": [
    "def countPower(N,df):\n",
    "    return np.square(abs(df)).sum(axis=1)\n",
    "        \n",
    "eegFeatureDF = pd.DataFrame()\n",
    "for eegCH in range(1,33,1):\n",
    "    '''E_band特征'''\n",
    "    powerTheta = countPower(504-253+1,locals()[\"CH{}eegfft_df\".format(eegCH)].iloc[:,253:504+1])\n",
    "    powerAlpha = countPower(882-505+1,locals()[\"CH{}eegfft_df\".format(eegCH)].iloc[:,505:882+1])\n",
    "    powerBeta = countPower(1890-883+1,locals()[\"CH{}eegfft_df\".format(eegCH)].iloc[:,883:1890+1])\n",
    "    powerGamma = countPower(2961-1891+1,locals()[\"CH{}eegfft_df\".format(eegCH)].iloc[:,1891:2961+1])\n",
    "    powerThetaDF = pd.DataFrame(powerTheta,columns=[\"CH{}ThetaPower\".format(eegCH)])   \n",
    "    powerAlphaDF = pd.DataFrame(powerAlpha,columns=[\"CH{}AlphaPower\".format(eegCH)])   \n",
    "    powerBetaDF = pd.DataFrame(powerBeta,columns=[\"CH{}BetaPower\".format(eegCH)])    \n",
    "    powerGammaDF = pd.DataFrame(powerGamma,columns=[\"CH{}GammaPower\".format(eegCH)])\n",
    "    '''E_RPE特征,相对能量特征(Relative Power Energy,RPE)'''\n",
    "    powerTotal = powerTheta + powerAlpha + powerBeta + powerGamma\n",
    "    E_RPE_Theta = powerTheta / powerTotal\n",
    "    E_RPE_Alpha = powerAlpha / powerTotal\n",
    "    E_RPE_Beta = powerBeta / powerTotal\n",
    "    E_RPE_Gamma = powerGamma / powerTotal\n",
    "    E_RPE_ThetaDF = pd.DataFrame(E_RPE_Theta,columns=[\"CH{}E_RPE_Theta\".format(eegCH)])\n",
    "    E_RPE_AlphaDF = pd.DataFrame(E_RPE_Theta,columns=[\"CH{}E_RPE_Alpha\".format(eegCH)])\n",
    "    E_RPE_BetaDF = pd.DataFrame(E_RPE_Theta,columns=[\"CH{}E_RPE_Beta\".format(eegCH)])\n",
    "    E_RPE_GammaDF = pd.DataFrame(E_RPE_Theta,columns=[\"CH{}E_RPE_Gamma\".format(eegCH)])\n",
    "    '''E_LRPE特征,对数相对能量特征(Logarithmic Relative Power Energy,LRPE)'''\n",
    "    E_LRPE_Theta = np.log(E_RPE_Theta)\n",
    "    E_LRPE_Alpha = np.log(E_RPE_Alpha)\n",
    "    E_LRPE_Beta = np.log(E_RPE_Beta)\n",
    "    E_LRPE_Gamma = np.log(E_RPE_Gamma)\n",
    "    E_LRPE_ThetaDF = pd.DataFrame(E_LRPE_Theta,columns=[\"CH{}E_LRPE_Theta\".format(eegCH)])\n",
    "    E_LRPE_AlphaDF = pd.DataFrame(E_LRPE_Theta,columns=[\"CH{}E_LRPE_Alpha\".format(eegCH)])\n",
    "    E_LRPE_BetaDF = pd.DataFrame(E_LRPE_Theta,columns=[\"CH{}E_LRPE_Beta\".format(eegCH)])\n",
    "    E_LRPE_GammaDF = pd.DataFrame(E_LRPE_Theta,columns=[\"CH{}E_LRPE_Gamma\".format(eegCH)])\n",
    "    '''E_ALRPE特征,对数绝对值相对能量特征(Absolute Logarithmic Relative Power Energy,ALRPE)'''\n",
    "    E_ALRPE_Theta = abs(E_LRPE_Theta)\n",
    "    E_ALRPE_Alpha = abs(E_LRPE_Alpha)\n",
    "    E_ALRPE_Beta = abs(E_LRPE_Beta) \n",
    "    E_ALRPE_Gamma = abs(E_LRPE_Gamma)\n",
    "    E_ALRPE_ThetaDF = pd.DataFrame(E_LRPE_Theta,columns=[\"CH{}E_ALRPE_Theta\".format(eegCH)])\n",
    "    E_ALRPE_AlphaDF = pd.DataFrame(E_LRPE_Theta,columns=[\"CH{}E_ALRPE_Alpha\".format(eegCH)])\n",
    "    E_ALRPE_BetaDF = pd.DataFrame(E_LRPE_Theta,columns=[\"CH{}E_ALRPE_Beta\".format(eegCH)])\n",
    "    E_ALRPE_GammaDF = pd.DataFrame(E_LRPE_Theta,columns=[\"CH{}E_ALRPE_Gamma\".format(eegCH)])\n",
    "    concatList = [eegFeatureDF,powerThetaDF,powerAlphaDF,powerBetaDF,powerGammaDF,\n",
    "                  E_RPE_ThetaDF,E_RPE_AlphaDF,E_RPE_BetaDF,E_RPE_GammaDF,\n",
    "                  E_LRPE_ThetaDF,E_LRPE_AlphaDF,E_LRPE_BetaDF,E_LRPE_GammaDF,\n",
    "                  E_ALRPE_ThetaDF,E_ALRPE_AlphaDF,E_ALRPE_BetaDF,E_ALRPE_GammaDF,]\n",
    "    eegFeatureDF = pd.concat(concatList,axis=1)\n"
   ]
  },
  {
   "cell_type": "code",
   "execution_count": 9,
   "metadata": {},
   "outputs": [
    {
     "data": {
      "text/plain": [
       "\"\\nsig = CH1_df_EEG_x.iloc[0,:].values\\nwidths = np.arange(1, 128)\\ncwtmatr, freqs = pywt.cwt(sig, widths, 'bior2.8')\\nplt.imshow(cwtmatr, extent=[0, 63, 1, 128], cmap='PRGn', aspect='auto',vmax=abs(cwtmatr).max(), vmin=-abs(cwtmatr).max())  \\nplt.show() \\n\""
      ]
     },
     "execution_count": 9,
     "metadata": {},
     "output_type": "execute_result"
    }
   ],
   "source": [
    "#coef, freqs = pywt.cwt(CH10_df_EEG_x.iloc[0,:],np.arange(1,5000),'gaus1')\n",
    "#plt.matshow(coef) \n",
    "#plt.show()\n",
    "'''\n",
    "sig = CH1_df_EEG_x.iloc[0,:].values\n",
    "widths = np.arange(1, 128)\n",
    "cwtmatr, freqs = pywt.cwt(sig, widths, 'bior2.8')\n",
    "plt.imshow(cwtmatr, extent=[0, 63, 1, 128], cmap='PRGn', aspect='auto',vmax=abs(cwtmatr).max(), vmin=-abs(cwtmatr).max())  \n",
    "plt.show() \n",
    "'''"
   ]
  },
  {
   "cell_type": "code",
   "execution_count": 10,
   "metadata": {},
   "outputs": [
    {
     "name": "stdout",
     "output_type": "stream",
     "text": [
      "['bior1.1', 'bior1.3', 'bior1.5', 'bior2.2', 'bior2.4', 'bior2.6', 'bior2.8', 'bior3.1', 'bior3.3', 'bior3.5', 'bior3.7', 'bior3.9', 'bior4.4', 'bior5.5', 'bior6.8', 'cgau1', 'cgau2', 'cgau3', 'cgau4', 'cgau5', 'cgau6', 'cgau7', 'cgau8', 'cmor', 'coif1', 'coif2', 'coif3', 'coif4', 'coif5', 'coif6', 'coif7', 'coif8', 'coif9', 'coif10', 'coif11', 'coif12', 'coif13', 'coif14', 'coif15', 'coif16', 'coif17', 'db1', 'db2', 'db3', 'db4', 'db5', 'db6', 'db7', 'db8', 'db9', 'db10', 'db11', 'db12', 'db13', 'db14', 'db15', 'db16', 'db17', 'db18', 'db19', 'db20', 'db21', 'db22', 'db23', 'db24', 'db25', 'db26', 'db27', 'db28', 'db29', 'db30', 'db31', 'db32', 'db33', 'db34', 'db35', 'db36', 'db37', 'db38', 'dmey', 'fbsp', 'gaus1', 'gaus2', 'gaus3', 'gaus4', 'gaus5', 'gaus6', 'gaus7', 'gaus8', 'haar', 'mexh', 'morl', 'rbio1.1', 'rbio1.3', 'rbio1.5', 'rbio2.2', 'rbio2.4', 'rbio2.6', 'rbio2.8', 'rbio3.1', 'rbio3.3', 'rbio3.5', 'rbio3.7', 'rbio3.9', 'rbio4.4', 'rbio5.5', 'rbio6.8', 'shan', 'sym2', 'sym3', 'sym4', 'sym5', 'sym6', 'sym7', 'sym8', 'sym9', 'sym10', 'sym11', 'sym12', 'sym13', 'sym14', 'sym15', 'sym16', 'sym17', 'sym18', 'sym19', 'sym20']\n"
     ]
    }
   ],
   "source": [
    "wavlist = pywt.wavelist(kind='all')\n",
    "print(wavlist)"
   ]
  },
  {
   "cell_type": "code",
   "execution_count": 11,
   "metadata": {},
   "outputs": [
    {
     "name": "stdout",
     "output_type": "stream",
     "text": [
      "(1280, 512)\n"
     ]
    }
   ],
   "source": [
    "print(eegFeatureDF.shape)\n",
    "#dump到文件保存\n",
    "pickle.dump(eegFeatureDF,open(\"./dump_file/eegFeatureDF\",\"wb\")) \n"
   ]
  }
 ],
 "metadata": {
  "kernelspec": {
   "display_name": "Python 3",
   "language": "python",
   "name": "python3"
  },
  "language_info": {
   "codemirror_mode": {
    "name": "ipython",
    "version": 3
   },
   "file_extension": ".py",
   "mimetype": "text/x-python",
   "name": "python",
   "nbconvert_exporter": "python",
   "pygments_lexer": "ipython3",
   "version": "3.6.5"
  }
 },
 "nbformat": 4,
 "nbformat_minor": 2
}
