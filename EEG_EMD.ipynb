{
 "cells": [
  {
   "cell_type": "code",
   "execution_count": 1,
   "metadata": {},
   "outputs": [],
   "source": [
    "#EEG 经验模态分解\n",
    "import sampleEntropy as se\n",
    "from pyhht.visualization import plot_imfs\n",
    "from pyhht.emd import EMD\n",
    "import numpy as np\n",
    "import scipy as sp\n",
    "import pandas as pd\n",
    "import pickle \n",
    "import matplotlib.pyplot as plt\n",
    "import multiprocessing\n",
    "import warnings\n",
    "warnings.filterwarnings(\"ignore\")\n",
    "#用来计算程序运行时间\n",
    "import datetime\n",
    "starttime = datetime.datetime.now()"
   ]
  },
  {
   "cell_type": "code",
   "execution_count": 2,
   "metadata": {},
   "outputs": [],
   "source": [
    "#读取32个通道的EEG数据，每个通道包含32×40=1280个信号样本（人次×每人次40实验）\n",
    "#每个样本向量大小为8064点（63s*128Hz）\n",
    "for eeg_CH in range(1,33,1):\n",
    "    file_path = \"./dump_file/CH{}_df_EEG_x\".format(eeg_CH)\n",
    "    locals()['CH{}_df_EEG_x'.format(eeg_CH)] = pickle.load(open(file_path,\"rb\"))"
   ]
  },
  {
   "cell_type": "code",
   "execution_count": 3,
   "metadata": {},
   "outputs": [
    {
     "data": {
      "text/plain": [
       "'matplotlib画图\\nplt.figure(dpi=300)\\nplt.subplot(4,1,1)\\nplt.ylabel(\"EEG signal\")\\nplt.plot(x)\\nfor i in range(0,3,1):\\n    plt.subplot(4,1,i+2)\\n    plt.ylabel(\"IMF{}\".format(i+1))\\n    plt.plot(imfs[i])\\nplt.show()\\nplt.figure(dpi=300)\\nfor i in [3,4,5,6]:\\n    plt.subplot(4,1,i-2)\\n    plt.ylabel(\"IMF{}\".format(i+1))\\n    plt.plot(imfs[i])\\nplt.show()\\nplt.figure(dpi=300)\\nfor i in [7,8,9,10]:\\n    plt.subplot(4,1,i-6)\\n    if i==10:\\n        plt.ylabel(\"RES\")        \\n    else:\\n        plt.ylabel(\"IMF{}\".format(i+1))\\n    plt.plot(imfs[i])\\nplt.show()\\n'"
      ]
     },
     "execution_count": 3,
     "metadata": {},
     "output_type": "execute_result"
    }
   ],
   "source": [
    "'''pyhht自带的画图\n",
    "t = range(0,8064,1)\n",
    "x = CH1_df_EEG_x.iloc[20,:]\n",
    "decomposer = EMD(x)\n",
    "imfs = decomposer.decompose()\n",
    "#plot_imfs(x, imfs, t)\n",
    "'''\n",
    "'''matplotlib画图\n",
    "plt.figure(dpi=300)\n",
    "plt.subplot(4,1,1)\n",
    "plt.ylabel(\"EEG signal\")\n",
    "plt.plot(x)\n",
    "for i in range(0,3,1):\n",
    "    plt.subplot(4,1,i+2)\n",
    "    plt.ylabel(\"IMF{}\".format(i+1))\n",
    "    plt.plot(imfs[i])\n",
    "plt.show()\n",
    "plt.figure(dpi=300)\n",
    "for i in [3,4,5,6]:\n",
    "    plt.subplot(4,1,i-2)\n",
    "    plt.ylabel(\"IMF{}\".format(i+1))\n",
    "    plt.plot(imfs[i])\n",
    "plt.show()\n",
    "plt.figure(dpi=300)\n",
    "for i in [7,8,9,10]:\n",
    "    plt.subplot(4,1,i-6)\n",
    "    if i==10:\n",
    "        plt.ylabel(\"RES\")        \n",
    "    else:\n",
    "        plt.ylabel(\"IMF{}\".format(i+1))\n",
    "    plt.plot(imfs[i])\n",
    "plt.show()\n",
    "'''"
   ]
  },
  {
   "cell_type": "code",
   "execution_count": null,
   "metadata": {},
   "outputs": [],
   "source": []
  },
  {
   "cell_type": "code",
   "execution_count": 4,
   "metadata": {},
   "outputs": [
    {
     "data": {
      "text/plain": [
       "'\\nif False:\\n    for eegCH in range(1,33,1):\\n        locals()[\"p{}\".format(eegCH)] = multiprocessing.Process(target = runEMD, args = (eegCH,))\\n        locals()[\"p{}\".format(eegCH)].start()\\n        print(\"p{}.pid:{}\".format(eegCH,locals()[\"p{}\".format(eegCH)].pid))\\nelse:\\n    runEMD(eegCH=2)\\n'"
      ]
     },
     "execution_count": 4,
     "metadata": {},
     "output_type": "execute_result"
    }
   ],
   "source": [
    "def runEMD(eegCH):\n",
    "    #用来计算程序运行时间\n",
    "    import datetime\n",
    "    import pickle\n",
    "    starttime = datetime.datetime.now()\n",
    "    print(\"[CH{}]job start!\".format(eegCH))\n",
    "    file_path = \"./dump_file/CH{}_df_EEG_x\".format(eegCH)\n",
    "    locals()['CH{}_df_EEG_x'.format(eegCH)] = pickle.load(open(file_path,\"rb\"))\n",
    "    if eegCH != 2:\n",
    "        for i in range(0,1280,1):\n",
    "            x = locals()['CH{}_df_EEG_x'.format(eegCH)].iloc[i,:]\n",
    "            decomposer = EMD(x)\n",
    "            imfs = decomposer.decompose()\n",
    "            file_path = \"./dump_file_imfs/CH{}_imfs_{}\".format(eegCH,i)\n",
    "            pickle.dump(imfs,open(file_path,\"wb\"))\n",
    "    else:\n",
    "        dfCH2 = abs(locals()['CH{}_df_EEG_x'.format(eegCH)])\n",
    "        for i in range(0,1280,1):\n",
    "            x = dfCH2.iloc[i,:]\n",
    "            decomposer = EMD(x)\n",
    "            imfs = decomposer.decompose()\n",
    "            file_path = \"./dump_file_imfs/CH{}_imfs_{}\".format(eegCH,i)\n",
    "            pickle.dump(imfs,open(file_path,\"wb\"))        \n",
    "    print(\"[CH{}]job done!\".format(eegCH))\n",
    "    #用来计算程序运行时间\n",
    "    endtime = datetime.datetime.now()\n",
    "    print(\"程序运行时间:%.1fs\"%(endtime - starttime).seconds)\n",
    "'''\n",
    "if False:\n",
    "    for eegCH in range(1,33,1):\n",
    "        locals()[\"p{}\".format(eegCH)] = multiprocessing.Process(target = runEMD, args = (eegCH,))\n",
    "        locals()[\"p{}\".format(eegCH)].start()\n",
    "        print(\"p{}.pid:{}\".format(eegCH,locals()[\"p{}\".format(eegCH)].pid))\n",
    "else:\n",
    "    runEMD(eegCH=2)\n",
    "'''       "
   ]
  },
  {
   "cell_type": "code",
   "execution_count": null,
   "metadata": {},
   "outputs": [],
   "source": []
  },
  {
   "cell_type": "code",
   "execution_count": null,
   "metadata": {},
   "outputs": [],
   "source": []
  },
  {
   "cell_type": "code",
   "execution_count": 8,
   "metadata": {},
   "outputs": [],
   "source": [
    "#使用原始EEG信号提取样本熵特征\n",
    "def countSampleEntropy(eegCH,data,lineIndex):\n",
    "    tmpSE = se.sampEn(data,m=2,r=1)\n",
    "    filePath = \"./dump_file_sampEn/CH{}_sampEn_{}\".format(eegCH,lineIndex)\n",
    "    pickle.dump(tmpSE,open(filePath,\"wb\"))\n",
    "    print(\"[CH{}]->{} done!\".format(eegCH,lineIndex))\n",
    "    \n",
    "def countSampleEntropySomes(eegCH,data,startIndex,endIndex):    \n",
    "    sampEnList = []\n",
    "    for i in range(0,endIndex-startIndex,1):\n",
    "        std = np.std(data.iloc[i,:].values)\n",
    "        try:\n",
    "            tmpSampEn = se.sampEn(data.iloc[i,:].values,m=2,r=0.2*std)  #这里不能是dataframe\n",
    "        except BaseException:\n",
    "            print(\"ERROR!!!!!!!!!!!!!!!!!!\",eegCH,startIndex,endIndex,i)          \n",
    "        sampEnList.append(tmpSampEn)\n",
    "    result = pd.DataFrame(sampEnList,index=data.index,columns=['CH{}SampEn'.format(eegCH)])\n",
    "    filePath = \"./dump_file_sampEn/CH{}_sampEn_{}_{}\".format(eegCH,startIndex,endIndex)\n",
    "    pickle.dump(result,open(filePath,\"wb\"))\n",
    "    print(\"[CH{}]->{}_{} done!\".format(eegCH,startIndex,endIndex))\n",
    "\n",
    "cpuNums = 20\n",
    "steps = 1280 // cpuNums\n",
    "startIndexList = [idx for idx in range(0,1280,steps)]\n",
    "startPoint = 6784\n",
    "endPoint = 8064\n",
    "if False:\n",
    "    for eegCH in range(1,33,1):\n",
    "        for sIdx in startIndexList:\n",
    "            if eegCH !=2:\n",
    "                if sIdx+steps >= 1280:\n",
    "                    data = locals()['CH{}_df_EEG_x'.format(eegCH)].iloc[sIdx:1280,startPoint:endPoint]\n",
    "                else:\n",
    "                    data = locals()['CH{}_df_EEG_x'.format(eegCH)].iloc[sIdx:sIdx+steps,startPoint:endPoint]\n",
    "                locals()[\"p{}\".format(eegCH)] = multiprocessing.Process(target = countSampleEntropySomes, \n",
    "                                                                        args = (eegCH,data,sIdx,sIdx+steps))\n",
    "                locals()[\"p{}\".format(eegCH)].start()\n",
    "                print(\"CH{}_sIdx{}.pid:{}\".format(eegCH,sIdx,locals()[\"p{}\".format(eegCH)].pid))\n",
    "            else:#CH2是复数，另外处理\n",
    "                data = abs(locals()['CH{}_df_EEG_x'.format(eegCH)])\n",
    "                if sIdx+steps >= 1280:\n",
    "                    data = data.iloc[sIdx:1280,startPoint:endPoint]\n",
    "                else:\n",
    "                    data = data.iloc[sIdx:sIdx+steps,startPoint:endPoint]\n",
    "                locals()[\"p{}\".format(eegCH)] = multiprocessing.Process(target = countSampleEntropySomes, \n",
    "                                                                        args = (eegCH,data,sIdx,sIdx+steps))\n",
    "                locals()[\"p{}\".format(eegCH)].start()\n",
    "                print(\"CH{}_sIdx{}.pid:{}\".format(eegCH,sIdx,locals()[\"p{}\".format(eegCH)].pid))\n"
   ]
  },
  {
   "cell_type": "code",
   "execution_count": 9,
   "metadata": {},
   "outputs": [],
   "source": [
    "#读取样本熵文件,将每个通道分别写入文件中\n",
    "if True:   \n",
    "    for eegCH in range(1,33,1):\n",
    "        sampEnDF = pd.DataFrame()\n",
    "        for sIdx in startIndexList:\n",
    "            if sIdx+steps >= 1280:\n",
    "                filePath = \"./dump_file_sampEn/CH{}_sampEn_{}_{}\".format(eegCH,sIdx,1280)\n",
    "                locals()[\"CH{}_sampEn_{}_{}\".format(eegCH,sIdx,1280)] = pickle.load(open(filePath,\"rb\"))\n",
    "                sampEnDF = pd.concat([sampEnDF,locals()[\"CH{}_sampEn_{}_{}\".format(eegCH,sIdx,1280)]],axis=0)\n",
    "            else:\n",
    "                filePath = \"./dump_file_sampEn/CH{}_sampEn_{}_{}\".format(eegCH,sIdx,sIdx+steps)\n",
    "                locals()[\"CH{}_sampEn_{}_{}\".format(eegCH,sIdx,sIdx+steps)] = pickle.load(open(filePath,\"rb\"))\n",
    "                sampEnDF = pd.concat([sampEnDF,locals()[\"CH{}_sampEn_{}_{}\".format(eegCH,sIdx,sIdx+steps)]],axis=0)\n",
    "        filePath = \"./dump_file_sampEn/CH{}_sampEn\".format(eegCH)\n",
    "        pickle.dump(sampEnDF,open(filePath,\"wb\"))\n",
    "        "
   ]
  },
  {
   "cell_type": "code",
   "execution_count": 10,
   "metadata": {},
   "outputs": [],
   "source": [
    "if True:\n",
    "    sampEnDF = pd.DataFrame()\n",
    "    for eegCH in range(1,33,1):\n",
    "        filePath = \"./dump_file_sampEn/CH{}_sampEn\".format(eegCH)\n",
    "        tmpDF = pickle.load(open(filePath,\"rb\"))\n",
    "        sampEnDF = pd.concat([sampEnDF,tmpDF],axis=1)\n",
    "    filePath = \"./dump_file_sampEn/sampEnFeatures\".format(eegCH)\n",
    "    pickle.dump(sampEnDF,open(filePath,\"wb\"))\n",
    "    \n"
   ]
  },
  {
   "cell_type": "code",
   "execution_count": 12,
   "metadata": {},
   "outputs": [
    {
     "data": {
      "text/plain": [
       "(1280, 32)"
      ]
     },
     "execution_count": 12,
     "metadata": {},
     "output_type": "execute_result"
    }
   ],
   "source": [
    "sampEnDF.shape\n"
   ]
  },
  {
   "cell_type": "code",
   "execution_count": null,
   "metadata": {},
   "outputs": [],
   "source": [
    "\n"
   ]
  }
 ],
 "metadata": {
  "kernelspec": {
   "display_name": "Python 3",
   "language": "python",
   "name": "python3"
  },
  "language_info": {
   "codemirror_mode": {
    "name": "ipython",
    "version": 3
   },
   "file_extension": ".py",
   "mimetype": "text/x-python",
   "name": "python",
   "nbconvert_exporter": "python",
   "pygments_lexer": "ipython3",
   "version": "3.6.5"
  }
 },
 "nbformat": 4,
 "nbformat_minor": 2
}
